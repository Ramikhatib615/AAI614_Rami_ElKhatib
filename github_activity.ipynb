{
  "nbformat": 4,
  "nbformat_minor": 0,
  "metadata": {
    "colab": {
      "provenance": [],
      "authorship_tag": "ABX9TyNLC2FpLdp1ElFLoEXGTTFI",
      "include_colab_link": true
    },
    "kernelspec": {
      "name": "python3",
      "display_name": "Python 3"
    },
    "language_info": {
      "name": "python"
    }
  },
  "cells": [
    {
      "cell_type": "markdown",
      "metadata": {
        "id": "view-in-github",
        "colab_type": "text"
      },
      "source": [
        "<a href=\"https://colab.research.google.com/github/Ramikhatib615/AAI614_Rami_ElKhatib/blob/main/github_activity.ipynb\" target=\"_parent\"><img src=\"https://colab.research.google.com/assets/colab-badge.svg\" alt=\"Open In Colab\"/></a>"
      ]
    },
    {
      "cell_type": "markdown",
      "source": [
        "# GitHub Activity Notebook\n",
        "[My GitHub Repository](https://github.com/Ramikhatib615/AAI614_Rami_ElKhatib)\n"
      ],
      "metadata": {
        "id": "EFBM-VzpLo2t"
      }
    },
    {
      "cell_type": "code",
      "source": [
        "print(\"Hello, this is my GitHub activity notebook!\")\n"
      ],
      "metadata": {
        "colab": {
          "base_uri": "https://localhost:8080/"
        },
        "id": "f9bmOEP8Lp6L",
        "outputId": "5406e96e-e0b6-494d-abde-f69ebefb3d9b"
      },
      "execution_count": 3,
      "outputs": [
        {
          "output_type": "stream",
          "name": "stdout",
          "text": [
            "Hello, this is my GitHub activity notebook!\n"
          ]
        }
      ]
    }
  ]
}